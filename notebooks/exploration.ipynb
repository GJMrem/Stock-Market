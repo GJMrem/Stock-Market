{
 "cells": [
  {
   "cell_type": "code",
   "execution_count": 1,
   "metadata": {},
   "outputs": [],
   "source": [
    "import pandas as pd\n",
    "import statsmodels.api as sm\n",
    "import seaborn as sns\n",
    "from tqdm.notebook import tqdm, trange"
   ]
  },
  {
   "cell_type": "code",
   "execution_count": 2,
   "metadata": {},
   "outputs": [],
   "source": [
    "import torch\n",
    "import torch.nn as nn"
   ]
  },
  {
   "cell_type": "code",
   "execution_count": 3,
   "metadata": {},
   "outputs": [
    {
     "data": {
      "text/html": [
       "<div>\n",
       "<style scoped>\n",
       "    .dataframe tbody tr th:only-of-type {\n",
       "        vertical-align: middle;\n",
       "    }\n",
       "\n",
       "    .dataframe tbody tr th {\n",
       "        vertical-align: top;\n",
       "    }\n",
       "\n",
       "    .dataframe thead th {\n",
       "        text-align: right;\n",
       "    }\n",
       "</style>\n",
       "<table border=\"1\" class=\"dataframe\">\n",
       "  <thead>\n",
       "    <tr style=\"text-align: right;\">\n",
       "      <th></th>\n",
       "      <th>Date</th>\n",
       "      <th>Low</th>\n",
       "      <th>Open</th>\n",
       "      <th>Volume</th>\n",
       "      <th>High</th>\n",
       "      <th>Close</th>\n",
       "      <th>Adjusted Close</th>\n",
       "    </tr>\n",
       "  </thead>\n",
       "  <tbody>\n",
       "    <tr>\n",
       "      <th>0</th>\n",
       "      <td>1980-12-12</td>\n",
       "      <td>0.128348</td>\n",
       "      <td>0.128348</td>\n",
       "      <td>469033600</td>\n",
       "      <td>0.128906</td>\n",
       "      <td>0.128348</td>\n",
       "      <td>0.099874</td>\n",
       "    </tr>\n",
       "    <tr>\n",
       "      <th>1</th>\n",
       "      <td>1980-12-15</td>\n",
       "      <td>0.121652</td>\n",
       "      <td>0.122210</td>\n",
       "      <td>175884800</td>\n",
       "      <td>0.122210</td>\n",
       "      <td>0.121652</td>\n",
       "      <td>0.094663</td>\n",
       "    </tr>\n",
       "    <tr>\n",
       "      <th>2</th>\n",
       "      <td>1980-12-16</td>\n",
       "      <td>0.112723</td>\n",
       "      <td>0.113281</td>\n",
       "      <td>105728000</td>\n",
       "      <td>0.113281</td>\n",
       "      <td>0.112723</td>\n",
       "      <td>0.087715</td>\n",
       "    </tr>\n",
       "    <tr>\n",
       "      <th>3</th>\n",
       "      <td>1980-12-17</td>\n",
       "      <td>0.115513</td>\n",
       "      <td>0.115513</td>\n",
       "      <td>86441600</td>\n",
       "      <td>0.116071</td>\n",
       "      <td>0.115513</td>\n",
       "      <td>0.089886</td>\n",
       "    </tr>\n",
       "    <tr>\n",
       "      <th>4</th>\n",
       "      <td>1980-12-18</td>\n",
       "      <td>0.118862</td>\n",
       "      <td>0.118862</td>\n",
       "      <td>73449600</td>\n",
       "      <td>0.119420</td>\n",
       "      <td>0.118862</td>\n",
       "      <td>0.092492</td>\n",
       "    </tr>\n",
       "    <tr>\n",
       "      <th>...</th>\n",
       "      <td>...</td>\n",
       "      <td>...</td>\n",
       "      <td>...</td>\n",
       "      <td>...</td>\n",
       "      <td>...</td>\n",
       "      <td>...</td>\n",
       "      <td>...</td>\n",
       "    </tr>\n",
       "    <tr>\n",
       "      <th>10585</th>\n",
       "      <td>2022-12-06</td>\n",
       "      <td>141.919998</td>\n",
       "      <td>147.070007</td>\n",
       "      <td>64727200</td>\n",
       "      <td>147.300003</td>\n",
       "      <td>142.910004</td>\n",
       "      <td>142.910004</td>\n",
       "    </tr>\n",
       "    <tr>\n",
       "      <th>10586</th>\n",
       "      <td>2022-12-07</td>\n",
       "      <td>140.000000</td>\n",
       "      <td>142.190002</td>\n",
       "      <td>69721100</td>\n",
       "      <td>143.369995</td>\n",
       "      <td>140.940002</td>\n",
       "      <td>140.940002</td>\n",
       "    </tr>\n",
       "    <tr>\n",
       "      <th>10587</th>\n",
       "      <td>2022-12-08</td>\n",
       "      <td>141.100006</td>\n",
       "      <td>142.360001</td>\n",
       "      <td>62128300</td>\n",
       "      <td>143.520004</td>\n",
       "      <td>142.649994</td>\n",
       "      <td>142.649994</td>\n",
       "    </tr>\n",
       "    <tr>\n",
       "      <th>10588</th>\n",
       "      <td>2022-12-09</td>\n",
       "      <td>140.899994</td>\n",
       "      <td>142.339996</td>\n",
       "      <td>76069500</td>\n",
       "      <td>145.570007</td>\n",
       "      <td>142.160004</td>\n",
       "      <td>142.160004</td>\n",
       "    </tr>\n",
       "    <tr>\n",
       "      <th>10589</th>\n",
       "      <td>2022-12-12</td>\n",
       "      <td>141.070007</td>\n",
       "      <td>142.699997</td>\n",
       "      <td>20280660</td>\n",
       "      <td>143.000000</td>\n",
       "      <td>142.240005</td>\n",
       "      <td>142.240005</td>\n",
       "    </tr>\n",
       "  </tbody>\n",
       "</table>\n",
       "<p>10590 rows × 7 columns</p>\n",
       "</div>"
      ],
      "text/plain": [
       "            Date         Low        Open     Volume        High       Close  \\\n",
       "0     1980-12-12    0.128348    0.128348  469033600    0.128906    0.128348   \n",
       "1     1980-12-15    0.121652    0.122210  175884800    0.122210    0.121652   \n",
       "2     1980-12-16    0.112723    0.113281  105728000    0.113281    0.112723   \n",
       "3     1980-12-17    0.115513    0.115513   86441600    0.116071    0.115513   \n",
       "4     1980-12-18    0.118862    0.118862   73449600    0.119420    0.118862   \n",
       "...          ...         ...         ...        ...         ...         ...   \n",
       "10585 2022-12-06  141.919998  147.070007   64727200  147.300003  142.910004   \n",
       "10586 2022-12-07  140.000000  142.190002   69721100  143.369995  140.940002   \n",
       "10587 2022-12-08  141.100006  142.360001   62128300  143.520004  142.649994   \n",
       "10588 2022-12-09  140.899994  142.339996   76069500  145.570007  142.160004   \n",
       "10589 2022-12-12  141.070007  142.699997   20280660  143.000000  142.240005   \n",
       "\n",
       "       Adjusted Close  \n",
       "0            0.099874  \n",
       "1            0.094663  \n",
       "2            0.087715  \n",
       "3            0.089886  \n",
       "4            0.092492  \n",
       "...               ...  \n",
       "10585      142.910004  \n",
       "10586      140.940002  \n",
       "10587      142.649994  \n",
       "10588      142.160004  \n",
       "10589      142.240005  \n",
       "\n",
       "[10590 rows x 7 columns]"
      ]
     },
     "execution_count": 3,
     "metadata": {},
     "output_type": "execute_result"
    }
   ],
   "source": [
    "df = pd.read_csv('data/sp500/csv/AAPL.csv', parse_dates=['Date'], date_format='%d-%m-%Y')\n"
   ]
  },
  {
   "cell_type": "code",
   "execution_count": 4,
   "metadata": {},
   "outputs": [
    {
     "data": {
      "text/html": [
       "<div>\n",
       "<style scoped>\n",
       "    .dataframe tbody tr th:only-of-type {\n",
       "        vertical-align: middle;\n",
       "    }\n",
       "\n",
       "    .dataframe tbody tr th {\n",
       "        vertical-align: top;\n",
       "    }\n",
       "\n",
       "    .dataframe thead th {\n",
       "        text-align: right;\n",
       "    }\n",
       "</style>\n",
       "<table border=\"1\" class=\"dataframe\">\n",
       "  <thead>\n",
       "    <tr style=\"text-align: right;\">\n",
       "      <th></th>\n",
       "      <th>Date</th>\n",
       "      <th>Low</th>\n",
       "      <th>Open</th>\n",
       "      <th>Volume</th>\n",
       "      <th>High</th>\n",
       "      <th>Close</th>\n",
       "      <th>Adjusted Close</th>\n",
       "      <th>RateOfReturn</th>\n",
       "    </tr>\n",
       "  </thead>\n",
       "  <tbody>\n",
       "    <tr>\n",
       "      <th>0</th>\n",
       "      <td>1980-12-12</td>\n",
       "      <td>0.128348</td>\n",
       "      <td>0.128348</td>\n",
       "      <td>469033600</td>\n",
       "      <td>0.128906</td>\n",
       "      <td>0.128348</td>\n",
       "      <td>0.099874</td>\n",
       "      <td>NaN</td>\n",
       "    </tr>\n",
       "    <tr>\n",
       "      <th>1</th>\n",
       "      <td>1980-12-15</td>\n",
       "      <td>0.121652</td>\n",
       "      <td>0.122210</td>\n",
       "      <td>175884800</td>\n",
       "      <td>0.122210</td>\n",
       "      <td>0.121652</td>\n",
       "      <td>0.094663</td>\n",
       "      <td>-0.052171</td>\n",
       "    </tr>\n",
       "    <tr>\n",
       "      <th>2</th>\n",
       "      <td>1980-12-16</td>\n",
       "      <td>0.112723</td>\n",
       "      <td>0.113281</td>\n",
       "      <td>105728000</td>\n",
       "      <td>0.113281</td>\n",
       "      <td>0.112723</td>\n",
       "      <td>0.087715</td>\n",
       "      <td>-0.073398</td>\n",
       "    </tr>\n",
       "    <tr>\n",
       "      <th>3</th>\n",
       "      <td>1980-12-17</td>\n",
       "      <td>0.115513</td>\n",
       "      <td>0.115513</td>\n",
       "      <td>86441600</td>\n",
       "      <td>0.116071</td>\n",
       "      <td>0.115513</td>\n",
       "      <td>0.089886</td>\n",
       "      <td>0.024751</td>\n",
       "    </tr>\n",
       "    <tr>\n",
       "      <th>4</th>\n",
       "      <td>1980-12-18</td>\n",
       "      <td>0.118862</td>\n",
       "      <td>0.118862</td>\n",
       "      <td>73449600</td>\n",
       "      <td>0.119420</td>\n",
       "      <td>0.118862</td>\n",
       "      <td>0.092492</td>\n",
       "      <td>0.028992</td>\n",
       "    </tr>\n",
       "    <tr>\n",
       "      <th>...</th>\n",
       "      <td>...</td>\n",
       "      <td>...</td>\n",
       "      <td>...</td>\n",
       "      <td>...</td>\n",
       "      <td>...</td>\n",
       "      <td>...</td>\n",
       "      <td>...</td>\n",
       "      <td>...</td>\n",
       "    </tr>\n",
       "    <tr>\n",
       "      <th>10585</th>\n",
       "      <td>2022-12-06</td>\n",
       "      <td>141.919998</td>\n",
       "      <td>147.070007</td>\n",
       "      <td>64727200</td>\n",
       "      <td>147.300003</td>\n",
       "      <td>142.910004</td>\n",
       "      <td>142.910004</td>\n",
       "      <td>-0.025370</td>\n",
       "    </tr>\n",
       "    <tr>\n",
       "      <th>10586</th>\n",
       "      <td>2022-12-07</td>\n",
       "      <td>140.000000</td>\n",
       "      <td>142.190002</td>\n",
       "      <td>69721100</td>\n",
       "      <td>143.369995</td>\n",
       "      <td>140.940002</td>\n",
       "      <td>140.940002</td>\n",
       "      <td>-0.013785</td>\n",
       "    </tr>\n",
       "    <tr>\n",
       "      <th>10587</th>\n",
       "      <td>2022-12-08</td>\n",
       "      <td>141.100006</td>\n",
       "      <td>142.360001</td>\n",
       "      <td>62128300</td>\n",
       "      <td>143.520004</td>\n",
       "      <td>142.649994</td>\n",
       "      <td>142.649994</td>\n",
       "      <td>0.012133</td>\n",
       "    </tr>\n",
       "    <tr>\n",
       "      <th>10588</th>\n",
       "      <td>2022-12-09</td>\n",
       "      <td>140.899994</td>\n",
       "      <td>142.339996</td>\n",
       "      <td>76069500</td>\n",
       "      <td>145.570007</td>\n",
       "      <td>142.160004</td>\n",
       "      <td>142.160004</td>\n",
       "      <td>-0.003435</td>\n",
       "    </tr>\n",
       "    <tr>\n",
       "      <th>10589</th>\n",
       "      <td>2022-12-12</td>\n",
       "      <td>141.070007</td>\n",
       "      <td>142.699997</td>\n",
       "      <td>20280660</td>\n",
       "      <td>143.000000</td>\n",
       "      <td>142.240005</td>\n",
       "      <td>142.240005</td>\n",
       "      <td>0.000563</td>\n",
       "    </tr>\n",
       "  </tbody>\n",
       "</table>\n",
       "<p>10590 rows × 8 columns</p>\n",
       "</div>"
      ],
      "text/plain": [
       "            Date         Low        Open     Volume        High       Close  \\\n",
       "0     1980-12-12    0.128348    0.128348  469033600    0.128906    0.128348   \n",
       "1     1980-12-15    0.121652    0.122210  175884800    0.122210    0.121652   \n",
       "2     1980-12-16    0.112723    0.113281  105728000    0.113281    0.112723   \n",
       "3     1980-12-17    0.115513    0.115513   86441600    0.116071    0.115513   \n",
       "4     1980-12-18    0.118862    0.118862   73449600    0.119420    0.118862   \n",
       "...          ...         ...         ...        ...         ...         ...   \n",
       "10585 2022-12-06  141.919998  147.070007   64727200  147.300003  142.910004   \n",
       "10586 2022-12-07  140.000000  142.190002   69721100  143.369995  140.940002   \n",
       "10587 2022-12-08  141.100006  142.360001   62128300  143.520004  142.649994   \n",
       "10588 2022-12-09  140.899994  142.339996   76069500  145.570007  142.160004   \n",
       "10589 2022-12-12  141.070007  142.699997   20280660  143.000000  142.240005   \n",
       "\n",
       "       Adjusted Close  RateOfReturn  \n",
       "0            0.099874           NaN  \n",
       "1            0.094663     -0.052171  \n",
       "2            0.087715     -0.073398  \n",
       "3            0.089886      0.024751  \n",
       "4            0.092492      0.028992  \n",
       "...               ...           ...  \n",
       "10585      142.910004     -0.025370  \n",
       "10586      140.940002     -0.013785  \n",
       "10587      142.649994      0.012133  \n",
       "10588      142.160004     -0.003435  \n",
       "10589      142.240005      0.000563  \n",
       "\n",
       "[10590 rows x 8 columns]"
      ]
     },
     "execution_count": 4,
     "metadata": {},
     "output_type": "execute_result"
    }
   ],
   "source": [
    "df['RateOfReturn'] = (df['Close'] - df['Close'].shift(1))/df['Close'].shift(1)\n",
    "df"
   ]
  },
  {
   "cell_type": "code",
   "execution_count": 5,
   "metadata": {},
   "outputs": [
    {
     "data": {
      "text/html": [
       "<div>\n",
       "<style scoped>\n",
       "    .dataframe tbody tr th:only-of-type {\n",
       "        vertical-align: middle;\n",
       "    }\n",
       "\n",
       "    .dataframe tbody tr th {\n",
       "        vertical-align: top;\n",
       "    }\n",
       "\n",
       "    .dataframe thead th {\n",
       "        text-align: right;\n",
       "    }\n",
       "</style>\n",
       "<table border=\"1\" class=\"dataframe\">\n",
       "  <thead>\n",
       "    <tr style=\"text-align: right;\">\n",
       "      <th></th>\n",
       "      <th>Date</th>\n",
       "      <th>Low</th>\n",
       "      <th>Open</th>\n",
       "      <th>Volume</th>\n",
       "      <th>High</th>\n",
       "      <th>Close</th>\n",
       "      <th>Adjusted Close</th>\n",
       "      <th>RateOfReturn</th>\n",
       "    </tr>\n",
       "  </thead>\n",
       "  <tbody>\n",
       "    <tr>\n",
       "      <th>count</th>\n",
       "      <td>10590</td>\n",
       "      <td>10590.000000</td>\n",
       "      <td>10590.000000</td>\n",
       "      <td>1.059000e+04</td>\n",
       "      <td>10590.000000</td>\n",
       "      <td>10590.000000</td>\n",
       "      <td>10590.000000</td>\n",
       "      <td>10589.000000</td>\n",
       "    </tr>\n",
       "    <tr>\n",
       "      <th>mean</th>\n",
       "      <td>2001-12-04 16:56:17.677053824</td>\n",
       "      <td>16.141083</td>\n",
       "      <td>16.323966</td>\n",
       "      <td>3.279583e+08</td>\n",
       "      <td>16.509548</td>\n",
       "      <td>16.332137</td>\n",
       "      <td>15.660945</td>\n",
       "      <td>0.001069</td>\n",
       "    </tr>\n",
       "    <tr>\n",
       "      <th>min</th>\n",
       "      <td>1980-12-12 00:00:00</td>\n",
       "      <td>0.049107</td>\n",
       "      <td>0.049665</td>\n",
       "      <td>0.000000e+00</td>\n",
       "      <td>0.049665</td>\n",
       "      <td>0.049107</td>\n",
       "      <td>0.038213</td>\n",
       "      <td>-0.518692</td>\n",
       "    </tr>\n",
       "    <tr>\n",
       "      <th>25%</th>\n",
       "      <td>1991-06-04 06:00:00</td>\n",
       "      <td>0.280134</td>\n",
       "      <td>0.286663</td>\n",
       "      <td>1.215564e+08</td>\n",
       "      <td>0.293699</td>\n",
       "      <td>0.286830</td>\n",
       "      <td>0.237230</td>\n",
       "      <td>-0.013112</td>\n",
       "    </tr>\n",
       "    <tr>\n",
       "      <th>50%</th>\n",
       "      <td>2001-11-29 12:00:00</td>\n",
       "      <td>0.477500</td>\n",
       "      <td>0.484375</td>\n",
       "      <td>2.151240e+08</td>\n",
       "      <td>0.493304</td>\n",
       "      <td>0.484375</td>\n",
       "      <td>0.401782</td>\n",
       "      <td>0.000000</td>\n",
       "    </tr>\n",
       "    <tr>\n",
       "      <th>75%</th>\n",
       "      <td>2012-06-05 18:00:00</td>\n",
       "      <td>15.800536</td>\n",
       "      <td>16.009286</td>\n",
       "      <td>4.070262e+08</td>\n",
       "      <td>16.179196</td>\n",
       "      <td>15.968750</td>\n",
       "      <td>13.831446</td>\n",
       "      <td>0.014708</td>\n",
       "    </tr>\n",
       "    <tr>\n",
       "      <th>max</th>\n",
       "      <td>2022-12-12 00:00:00</td>\n",
       "      <td>179.119995</td>\n",
       "      <td>182.630005</td>\n",
       "      <td>7.421641e+09</td>\n",
       "      <td>182.940002</td>\n",
       "      <td>182.009995</td>\n",
       "      <td>180.959732</td>\n",
       "      <td>0.332280</td>\n",
       "    </tr>\n",
       "    <tr>\n",
       "      <th>std</th>\n",
       "      <td>NaN</td>\n",
       "      <td>34.495971</td>\n",
       "      <td>34.904787</td>\n",
       "      <td>3.379551e+08</td>\n",
       "      <td>35.327844</td>\n",
       "      <td>34.928463</td>\n",
       "      <td>34.596768</td>\n",
       "      <td>0.028291</td>\n",
       "    </tr>\n",
       "  </tbody>\n",
       "</table>\n",
       "</div>"
      ],
      "text/plain": [
       "                                Date           Low          Open  \\\n",
       "count                          10590  10590.000000  10590.000000   \n",
       "mean   2001-12-04 16:56:17.677053824     16.141083     16.323966   \n",
       "min              1980-12-12 00:00:00      0.049107      0.049665   \n",
       "25%              1991-06-04 06:00:00      0.280134      0.286663   \n",
       "50%              2001-11-29 12:00:00      0.477500      0.484375   \n",
       "75%              2012-06-05 18:00:00     15.800536     16.009286   \n",
       "max              2022-12-12 00:00:00    179.119995    182.630005   \n",
       "std                              NaN     34.495971     34.904787   \n",
       "\n",
       "             Volume          High         Close  Adjusted Close  RateOfReturn  \n",
       "count  1.059000e+04  10590.000000  10590.000000    10590.000000  10589.000000  \n",
       "mean   3.279583e+08     16.509548     16.332137       15.660945      0.001069  \n",
       "min    0.000000e+00      0.049665      0.049107        0.038213     -0.518692  \n",
       "25%    1.215564e+08      0.293699      0.286830        0.237230     -0.013112  \n",
       "50%    2.151240e+08      0.493304      0.484375        0.401782      0.000000  \n",
       "75%    4.070262e+08     16.179196     15.968750       13.831446      0.014708  \n",
       "max    7.421641e+09    182.940002    182.009995      180.959732      0.332280  \n",
       "std    3.379551e+08     35.327844     34.928463       34.596768      0.028291  "
      ]
     },
     "execution_count": 5,
     "metadata": {},
     "output_type": "execute_result"
    }
   ],
   "source": [
    "df.describe()"
   ]
  },
  {
   "cell_type": "code",
   "execution_count": 6,
   "metadata": {},
   "outputs": [
    {
     "data": {
      "text/plain": [
       "Date              2000-09-29 00:00:00\n",
       "Low                          0.453125\n",
       "Open                         0.503348\n",
       "Volume                     7421640800\n",
       "High                         0.517857\n",
       "Close                        0.459821\n",
       "Adjusted Close                0.39196\n",
       "RateOfReturn                -0.518692\n",
       "Name: 5004, dtype: object"
      ]
     },
     "execution_count": 6,
     "metadata": {},
     "output_type": "execute_result"
    }
   ],
   "source": [
    "df.iloc[df['RateOfReturn'].idxmin()]"
   ]
  },
  {
   "cell_type": "code",
   "execution_count": 7,
   "metadata": {},
   "outputs": [
    {
     "data": {
      "text/plain": [
       "Date              1997-08-06 00:00:00\n",
       "Low                          0.223214\n",
       "Open                         0.225446\n",
       "Volume                     4190480000\n",
       "High                         0.247768\n",
       "Close                        0.234933\n",
       "Adjusted Close               0.200261\n",
       "RateOfReturn                  0.33228\n",
       "Name: 4209, dtype: object"
      ]
     },
     "execution_count": 7,
     "metadata": {},
     "output_type": "execute_result"
    }
   ],
   "source": [
    "df.iloc[df['RateOfReturn'].idxmax()]"
   ]
  },
  {
   "cell_type": "code",
   "execution_count": 8,
   "metadata": {},
   "outputs": [
    {
     "data": {
      "text/plain": [
       "<Axes: xlabel='Date', ylabel='Close'>"
      ]
     },
     "execution_count": 8,
     "metadata": {},
     "output_type": "execute_result"
    },
    {
     "data": {
      "image/png": "[encoded data removed]",
      "text/plain": [
       "<Figure size 640x480 with 1 Axes>"
      ]
     },
     "metadata": {},
     "output_type": "display_data"
    }
   ],
   "source": [
    "sns.lineplot(df[df['Date'].dt.strftime('%Y') == '2000'], x='Date', y='Close')"
   ]
  },
  {
   "cell_type": "code",
   "execution_count": 9,
   "metadata": {},
   "outputs": [
    {
     "data": {
      "text/plain": [
       "<Axes: xlabel='Date', ylabel='Close'>"
      ]
     },
     "execution_count": 9,
     "metadata": {},
     "output_type": "execute_result"
    },
    {
     "data": {
      "image/png": "[encoded data removed]",
      "text/plain": [
       "<Figure size 640x480 with 1 Axes>"
      ]
     },
     "metadata": {},
     "output_type": "display_data"
    }
   ],
   "source": [
    "sns.lineplot(df[df['Date'].dt.strftime('%Y') == '1997'], x='Date', y='Close')"
   ]
  },
  {
   "cell_type": "code",
   "execution_count": 10,
   "metadata": {},
   "outputs": [
    {
     "data": {
      "text/plain": [
       "<Axes: xlabel='Date', ylabel='Close'>"
      ]
     },
     "execution_count": 10,
     "metadata": {},
     "output_type": "execute_result"
    },
    {
     "data": {
      "image/png": "[encoded data removed]",
      "text/plain": [
       "<Figure size 640x480 with 1 Axes>"
      ]
     },
     "metadata": {},
     "output_type": "display_data"
    }
   ],
   "source": [
    "sns.lineplot(df, x='Date', y='Close')"
   ]
  },
  {
   "cell_type": "code",
   "execution_count": 11,
   "metadata": {},
   "outputs": [],
   "source": [
    "LEARNING_RATE = 0.01\n",
    "DEVICE = \"cuda\" if torch.cuda.is_available() else \"cpu\"\n",
    "#DEVICE = \"cpu\"\n",
    "BATCH_SIZE = 6\n",
    "NUM_EPOCHS = 64"
   ]
  },
  {
   "cell_type": "code",
   "execution_count": 12,
   "metadata": {},
   "outputs": [
    {
     "data": {
      "text/plain": [
       "'cuda'"
      ]
     },
     "execution_count": 12,
     "metadata": {},
     "output_type": "execute_result"
    }
   ],
   "source": [
    "DEVICE"
   ]
  },
  {
   "cell_type": "code",
   "execution_count": 13,
   "metadata": {},
   "outputs": [],
   "source": [
    "model = nn.RNN(10, 20, 2)\n",
    "criterion = nn.MSELoss()\n",
    "\n",
    "model.to(DEVICE)\n",
    "criterion.to(DEVICE)\n",
    "\n",
    "optimizer = torch.optim.SGD(model.parameters())"
   ]
  },
  {
   "cell_type": "code",
   "execution_count": 14,
   "metadata": {},
   "outputs": [],
   "source": [
    "# for epoch in tqdm(range(NUM_EPOCHS)):\n",
    "#     input = \n",
    "#     target = \n",
    "#     output = model(input)\n",
    "    \n",
    "#     loss = criterion(output, target)\n",
    "#     loss.backward()\n",
    "    \n",
    "#     optimizer.step()\n",
    "#     optimizer.zero_grad()    "
   ]
  },
  {
   "cell_type": "code",
   "execution_count": null,
   "metadata": {},
   "outputs": [],
   "source": []
  }
 ],
 "metadata": {
  "kernelspec": {
   "display_name": "cv",
   "language": "python",
   "name": "python3"
  },
  "language_info": {
   "codemirror_mode": {
    "name": "ipython",
    "version": 3
   },
   "file_extension": ".py",
   "mimetype": "text/x-python",
   "name": "python",
   "nbconvert_exporter": "python",
   "pygments_lexer": "ipython3",
   "version": "3.12.2"
  }
 },
 "nbformat": 4,
 "nbformat_minor": 2
}
